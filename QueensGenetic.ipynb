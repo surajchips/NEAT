{
 "cells": [
  {
   "cell_type": "code",
   "execution_count": 1,
   "id": "59bb0609-7455-4aaa-9769-6c7accc11198",
   "metadata": {},
   "outputs": [],
   "source": [
    "import math\n",
    "import types\n",
    "import warnings\n",
    "import random\n",
    "\n",
    "from Genetic import Genome\n",
    "from Genetic import Problem\n",
    "from Genetic import Genetic"
   ]
  },
  {
   "cell_type": "code",
   "execution_count": 30,
   "id": "ad4a3e2c-2b7d-41f6-ab3d-74e2a1209cda",
   "metadata": {},
   "outputs": [],
   "source": [
    "class QueensGenome(Genome):\n",
    "    mutationTries = 2\n",
    "    mutationChance = 0.5\n",
    "    def __init__(self, prob, sol = [0]*81):\n",
    "        super().__init__(prob)\n",
    "        self.solution = sol\n",
    "        \n",
    "    def initialize(self, rand=True):\n",
    "        self.solution = self.prob.createRandomSolution(not rand)\n",
    "    def cross(self, gen2):\n",
    "        ind = random.randint(1, self.prob.N2)\n",
    "        sol1 = self.solution[0:ind] + gen2.solution[ind:]\n",
    "        sol2 = gen2.solution[0:ind] + self.solution[ind:]\n",
    "        return (QueensGenome(self.prob, sol1), QueensGenome(self.prob, sol2))\n",
    "    def mutate(self):\n",
    "        for i in range(QueensGenome.mutationTries):\n",
    "            if(random.random() > QueensGenome.mutationChance): continue\n",
    "            ind = random.randint(0, self.prob.N2-1)\n",
    "            while self.solution[ind] != 1: ind = random.randint(0, self.prob.N2-1)\n",
    "            ind2 = random.randint(0, self.prob.N2-1)\n",
    "            if(ind != ind2):\n",
    "                self.solution[ind], self.solution[ind2] = self.solution[ind2], self.solution[ind]\n",
    "    def __str__(self):\n",
    "        st = \"\"\n",
    "        st += (\"_\"*self.prob.N)+\"\\n\"\n",
    "        for i in range(self.prob.N):\n",
    "            for e in range(self.prob.N):\n",
    "                st += str(self.solution[self.prob.N*i+e])\n",
    "            st += \"\\n\"\n",
    "        st += (\"_\"*self.prob.N)+\"\\n\"\n",
    "        return st"
   ]
  },
  {
   "cell_type": "code",
   "execution_count": 31,
   "id": "dc940357-f39c-4850-bcad-33c8cc018790",
   "metadata": {},
   "outputs": [
    {
     "name": "stdout",
     "output_type": "stream",
     "text": [
      "________\n",
      "00010000\n",
      "00000100\n",
      "00000010\n",
      "00001000\n",
      "00000010\n",
      "00010000\n",
      "00010000\n",
      "00001000\n",
      "________\n",
      "-11\n"
     ]
    }
   ],
   "source": [
    "class QueensProblem(Problem):\n",
    "    def __init__(self, N=9, known = []):\n",
    "        self.known = known\n",
    "        self.N = N\n",
    "        self.N2=N*N\n",
    "    def getScore(self, solution):\n",
    "        errors=0\n",
    "        for i in range(self.N):\n",
    "            frq = sum(solution[self.N*i+e] for e in range(self.N))\n",
    "            if frq == 0: errors += 1\n",
    "            else: errors += frq-1\n",
    "            frq = sum(solution[self.N*e+i] for e in range(self.N))\n",
    "            if frq == 0: errors += 1\n",
    "            else: errors += frq-1\n",
    "        frq = {}\n",
    "        for i in range(0, 2*self.N): frq[i] = 0\n",
    "        for x in range(self.N):\n",
    "            for y in range(self.N):\n",
    "                frq[x+y] += solution[self.N*x+y]\n",
    "        for i in range(0, 2*self.N): errors += max(0, frq[i]-1)\n",
    "        frq = {}\n",
    "        for i in range(-self.N, self.N+1): frq[i] = 0\n",
    "        for x in range(self.N):\n",
    "            for y in range(self.N):\n",
    "                frq[x-y] += solution[self.N*x+y]\n",
    "        for i in range(-self.N, self.N+1): errors += max(0, frq[i]-1)\n",
    "        a = sum(solution)\n",
    "        return -max(1, 9-a)*errors\n",
    "    def showSolution(self, solution):\n",
    "        print(\"_\"*self.N)\n",
    "        for i in range(self.N):\n",
    "            st = \"\"\n",
    "            for e in range(self.N):\n",
    "                st += str(solution[self.N*i+e])\n",
    "            print(st)\n",
    "        print(\"_\"*self.N)\n",
    "    def createRandomSolution(self, zeroes = False):\n",
    "        res = [0]*(self.N*self.N)\n",
    "        if not zeroes:\n",
    "            for i in range(self.N):\n",
    "                res[self.N*i+random.randint(0, self.N-1)] = 1\n",
    "        return res\n",
    "q = QueensProblem(8)\n",
    "s = q.createRandomSolution()\n",
    "q.showSolution(s)\n",
    "print(q.getScore(s))\n",
    "            "
   ]
  },
  {
   "cell_type": "code",
   "execution_count": 39,
   "id": "e536382c-63dd-4384-a1d6-e912509f2dee",
   "metadata": {},
   "outputs": [],
   "source": [
    "class QueensGenetic(Genetic):\n",
    "        \n",
    "    def solve(prob):\n",
    "        alg = QueensGenetic(prob, QueensGenome, 1000, 100)\n",
    "        alg.createPopulation()\n",
    "        alg.advanceGenerations(100)\n",
    "        alg.testFitness()\n",
    "        print(alg.population[-1])\n",
    "        print(alg.population[-1].fitness)\n",
    "        alg.advanceGenerations(100)\n",
    "        alg.testFitness()\n",
    "        print(alg.population[-1])\n",
    "        print(alg.population[-1].fitness)\n",
    "    \n",
    "        "
   ]
  },
  {
   "cell_type": "code",
   "execution_count": 40,
   "id": "b01012c9-3e47-48ce-8d42-b772a43216e3",
   "metadata": {},
   "outputs": [
    {
     "name": "stdout",
     "output_type": "stream",
     "text": [
      "________\n",
      "00000100\n",
      "00100000\n",
      "10000000\n",
      "00010000\n",
      "00000010\n",
      "00000001\n",
      "01000000\n",
      "00001000\n",
      "________\n",
      "\n",
      "-1\n",
      "________\n",
      "00000100\n",
      "00100000\n",
      "10000000\n",
      "00010000\n",
      "00000010\n",
      "00000001\n",
      "01000000\n",
      "00001000\n",
      "________\n",
      "\n",
      "-1\n"
     ]
    }
   ],
   "source": [
    "prob = QueensProblem(8, [9, 0, 0, 0, 0, 4, 0, 0, 2,\n",
    "                      0, 0, 0, 0, 0, 6, 0, 3, 7,\n",
    "                      0, 0, 0, 0, 7, 0, 0, 0, 0,\n",
    "                      0, 0, 0, 0, 0, 9, 0, 0, 0,\n",
    "                      0, 1, 0, 2, 6, 0, 0, 0, 0,\n",
    "                      4, 0, 0, 0, 0, 5, 0, 0, 1,\n",
    "                      0, 0, 0, 0, 1, 0, 0, 7, 6,\n",
    "                      0, 3, 5, 0, 0, 0, 0, 2, 0,\n",
    "                      1, 7, 0, 0, 9, 0, 0, 5, 3])\n",
    "QueensGenetic.solve(prob)\n",
    "    "
   ]
  },
  {
   "cell_type": "code",
   "execution_count": null,
   "id": "adf84aee-bbd3-40a0-924a-18dd2318536a",
   "metadata": {},
   "outputs": [],
   "source": []
  }
 ],
 "metadata": {
  "kernelspec": {
   "display_name": "Python 3 (ipykernel)",
   "language": "python",
   "name": "python3"
  },
  "language_info": {
   "codemirror_mode": {
    "name": "ipython",
    "version": 3
   },
   "file_extension": ".py",
   "mimetype": "text/x-python",
   "name": "python",
   "nbconvert_exporter": "python",
   "pygments_lexer": "ipython3",
   "version": "3.12.1"
  }
 },
 "nbformat": 4,
 "nbformat_minor": 5
}
