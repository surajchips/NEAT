{
 "cells": [
  {
   "cell_type": "code",
   "execution_count": null,
   "id": "0f0b827f-9f48-43fa-9ce7-ec76c22fff89",
   "metadata": {},
   "outputs": [],
   "source": [
    "import math\n",
    "import types\n",
    "import warnings\n",
    "import random\n",
    "\n",
    "from Genetic import Genome\n",
    "from Genetic import Problem\n",
    "from Genetic import Genetic"
   ]
  },
  {
   "cell_type": "code",
   "execution_count": null,
   "id": "9251457d-7770-45c2-910f-950469309ee5",
   "metadata": {},
   "outputs": [],
   "source": [
    "class SalesmanGenome:\n",
    "    "
   ]
  },
  {
   "cell_type": "code",
   "execution_count": null,
   "id": "2e33e731-2f24-4b0a-8b41-cafe73713141",
   "metadata": {},
   "outputs": [],
   "source": [
    "class SalesmanProblem:\n",
    "    def __init__(self, N=5, grid = [[]], start = 0):\n",
    "        self.N = N\n",
    "        self.grid = known\n",
    "        self.start = start\n",
    "    def getScore(self, solution):\n",
    "        wrong = 0\n",
    "        for i in range(81):\n",
    "            if self.known[i] != 0 and self.known[i] != solution[i]: wrong +=1\n",
    "        errors=0\n",
    "        for i in range(9):\n",
    "            frq = {1:0, 2:0, 3:0, 4:0, 5:0, 6:0, 7:0, 8:0, 9:0}\n",
    "            for e in range(9):\n",
    "                errors += frq[solution[9*i+e]]\n",
    "                frq[solution[9*i+e]] += 1\n",
    "        for i in range(9):\n",
    "            frq = {1:0, 2:0, 3:0, 4:0, 5:0, 6:0, 7:0, 8:0, 9:0}\n",
    "            for e in range(9):\n",
    "                errors += frq[solution[9*e+i]]\n",
    "                frq[solution[9*e+i]] += 1\n",
    "        for i in range(9):\n",
    "            frq = {1:0, 2:0, 3:0, 4:0, 5:0, 6:0, 7:0, 8:0, 9:0}\n",
    "            st = 9*(3*(i//3))+(3*(i%3))\n",
    "            for e in range(9):\n",
    "                errors += frq[solution[st]]\n",
    "                frq[solution[st]] += 1\n",
    "                st += 1\n",
    "                if e%3 == 2:\n",
    "                    st += 6\n",
    "        if wrong == 0:\n",
    "            return -0.5*errors\n",
    "        return -1*wrong*errors\n",
    "    def showSolution(self, solution):\n",
    "        for i in range(9):\n",
    "            if i%3 == 0:\n",
    "                print(\"_\"*13)\n",
    "            st = \"\"\n",
    "            for e in range(9):\n",
    "                if e%3 == 0:\n",
    "                    st += \"|\"\n",
    "                st += str(solution[9*i+e])\n",
    "            st += \"|\"\n",
    "            print(st)\n",
    "        print(\"_\"*13)\n",
    "    def createRandomSolution(self, zeroes = False):\n",
    "        res = [0]*81\n",
    "        if not zeroes:\n",
    "            for i in range(81):\n",
    "                res[i] = random.randint(1, 9)\n",
    "        return res"
   ]
  },
  {
   "cell_type": "code",
   "execution_count": null,
   "id": "5b1537a0-5e43-4047-ac24-d422a8546f5e",
   "metadata": {},
   "outputs": [],
   "source": [
    "class SalesmanGenetic:\n",
    "    "
   ]
  }
 ],
 "metadata": {
  "kernelspec": {
   "display_name": "Python 3 (ipykernel)",
   "language": "python",
   "name": "python3"
  },
  "language_info": {
   "codemirror_mode": {
    "name": "ipython",
    "version": 3
   },
   "file_extension": ".py",
   "mimetype": "text/x-python",
   "name": "python",
   "nbconvert_exporter": "python",
   "pygments_lexer": "ipython3",
   "version": "3.12.1"
  }
 },
 "nbformat": 4,
 "nbformat_minor": 5
}
