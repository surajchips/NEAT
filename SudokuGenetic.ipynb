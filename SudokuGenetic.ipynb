{
 "cells": [
  {
   "cell_type": "code",
   "execution_count": 1,
   "id": "59bb0609-7455-4aaa-9769-6c7accc11198",
   "metadata": {},
   "outputs": [],
   "source": [
    "import math\n",
    "import types\n",
    "import warnings\n",
    "import random\n",
    "\n",
    "from Genetic import Genome\n",
    "from Genetic import Problem\n",
    "from Genetic import Genetic"
   ]
  },
  {
   "cell_type": "code",
   "execution_count": 2,
   "id": "e99b8ef4-4ca3-4d2c-b2b2-98ac97ade314",
   "metadata": {},
   "outputs": [],
   "source": [
    "class Gene:\n",
    "    def __init__(self, input=0, output=10, weight=1.0, innovationNumber=1):\n",
    "        self.input=input\n",
    "        self.output=output\n",
    "        self.weight=weight\n",
    "        self.innovationNumber=innovationNumber\n",
    "        self.enabled=True"
   ]
  },
  {
   "cell_type": "code",
   "execution_count": 3,
   "id": "66b71a0a-4997-4d07-8278-715194b67a38",
   "metadata": {},
   "outputs": [],
   "source": [
    "class Organism:\n",
    "    def __init__(self, N=2, M=1, genes={}, nodes={}):\n",
    "        self.N=N\n",
    "        self.M=M\n",
    "        self.genes = genes\n",
    "        self.nodes = nodes\n",
    "        self.fitness = 0.0\n",
    "\n",
    "        self.add_node_prob=0.05\n",
    "        self.add_connection_prob=0.05\n",
    "        #add other probs\n",
    "        "
   ]
  },
  {
   "cell_type": "code",
   "execution_count": 4,
   "id": "206f8b4b-aa12-4f3c-b0fa-2f1ca54e094b",
   "metadata": {},
   "outputs": [],
   "source": [
    "class Node:\n",
    "    def __init__(self, num=0, activation = None):\n",
    "        self.activation = activation\n",
    "        self.num = num"
   ]
  },
  {
   "cell_type": "code",
   "execution_count": 5,
   "id": "4dd3aeb4-2ca5-4b52-9a9e-b74f0f8def67",
   "metadata": {},
   "outputs": [],
   "source": [
    "class Network:\n",
    "    def __init__(self):\n",
    "        self.N = 3\n",
    "        self.M = 2\n",
    "        "
   ]
  },
  {
   "cell_type": "code",
   "execution_count": 6,
   "id": "ad4a3e2c-2b7d-41f6-ab3d-74e2a1209cda",
   "metadata": {},
   "outputs": [],
   "source": [
    "class SudokuGenome(Genome):\n",
    "    def __init__(self, prob, sol = [0]*81):\n",
    "        super().__init__(prob)\n",
    "        self.solution = sol\n",
    "        \n",
    "    def initialize(self, rand=True):\n",
    "        self.solution = self.prob.createRandomSolution(not rand)\n",
    "    def cross(self, gen2):\n",
    "        ind = random.randint(1, 80)\n",
    "        sol1 = self.solution[0:ind] + gen2.solution[ind:]\n",
    "        sol2 = gen2.solution[0:ind] + self.solution[ind:]\n",
    "        return (SudokuGenome(self.prob, sol1), SudokuGenome(self.prob, sol2))\n",
    "    def mutate(self):\n",
    "        for i in range(SudokuGenome.mutationTries):\n",
    "            if(random.random() > SudokuGenome.mutationChance): continue\n",
    "            ind = random.randint(0, 80)\n",
    "            self.solution[ind] = random.randint(1, 9)\n",
    "    def __str__(self):\n",
    "        st = \"\"\n",
    "        for i in range(9):\n",
    "            if i%3 == 0:\n",
    "                st += (\"_\"*13)\n",
    "                st += \"\\n\"\n",
    "            st += \"\"\n",
    "            for e in range(9):\n",
    "                if e%3 == 0:\n",
    "                    st += \"|\"\n",
    "                st += str(self.solution[9*i+e])\n",
    "            st += \"|\"\n",
    "            st += \"\\n\"\n",
    "        st += (\"_\"*13)+\"\\n\"\n",
    "        return st"
   ]
  },
  {
   "cell_type": "code",
   "execution_count": 7,
   "id": "dc940357-f39c-4850-bcad-33c8cc018790",
   "metadata": {},
   "outputs": [],
   "source": [
    "class SudokuProblem(Problem):\n",
    "    def __init__(self, known = []):\n",
    "        self.known = known\n",
    "    def getScore(self, solution):\n",
    "        wrong = 0\n",
    "        for i in range(81):\n",
    "            if self.known[i] != 0 and self.known[i] != solution[i]: wrong +=1\n",
    "        errors=0\n",
    "        for i in range(9):\n",
    "            frq = {1:0, 2:0, 3:0, 4:0, 5:0, 6:0, 7:0, 8:0, 9:0}\n",
    "            for e in range(9):\n",
    "                errors += frq[solution[9*i+e]]\n",
    "                frq[solution[9*i+e]] += 1\n",
    "        for i in range(9):\n",
    "            frq = {1:0, 2:0, 3:0, 4:0, 5:0, 6:0, 7:0, 8:0, 9:0}\n",
    "            for e in range(9):\n",
    "                errors += frq[solution[9*e+i]]\n",
    "                frq[solution[9*e+i]] += 1\n",
    "        for i in range(9):\n",
    "            frq = {1:0, 2:0, 3:0, 4:0, 5:0, 6:0, 7:0, 8:0, 9:0}\n",
    "            st = 9*(3*(i//3))+(3*(i%3))\n",
    "            for e in range(9):\n",
    "                errors += frq[solution[st]]\n",
    "                frq[solution[st]] += 1\n",
    "                st += 1\n",
    "                if e%3 == 2:\n",
    "                    st += 6\n",
    "        if wrong == 0:\n",
    "            return -0.5*errors\n",
    "        return -1*wrong*errors\n",
    "    def showSolution(self, solution):\n",
    "        for i in range(9):\n",
    "            if i%3 == 0:\n",
    "                print(\"_\"*13)\n",
    "            st = \"\"\n",
    "            for e in range(9):\n",
    "                if e%3 == 0:\n",
    "                    st += \"|\"\n",
    "                st += str(solution[9*i+e])\n",
    "            st += \"|\"\n",
    "            print(st)\n",
    "        print(\"_\"*13)\n",
    "    def createRandomSolution(self, zeroes = False):\n",
    "        res = [0]*81\n",
    "        if not zeroes:\n",
    "            for i in range(81):\n",
    "                res[i] = random.randint(1, 9)\n",
    "        return res\n",
    "            \n",
    "            "
   ]
  },
  {
   "cell_type": "code",
   "execution_count": 8,
   "id": "e536382c-63dd-4384-a1d6-e912509f2dee",
   "metadata": {},
   "outputs": [],
   "source": [
    "class SudokuGenetic(Genetic):\n",
    "        \n",
    "    def solve(prob):\n",
    "        alg = SudokuGenetic(prob, SudokuGenome, 1000, 100)\n",
    "        alg.createPopulation()\n",
    "        alg.advanceGenerations(100)\n",
    "        alg.testFitness()\n",
    "        print(alg.population[-1])\n",
    "        print(alg.population[-1].fitness)\n",
    "    \n",
    "        "
   ]
  },
  {
   "cell_type": "code",
   "execution_count": 9,
   "id": "b01012c9-3e47-48ce-8d42-b772a43216e3",
   "metadata": {},
   "outputs": [
    {
     "name": "stdout",
     "output_type": "stream",
     "text": [
      "_____________\n",
      "|973|954|812|\n",
      "|894|126|637|\n",
      "|261|873|549|\n",
      "_____________\n",
      "|529|189|763|\n",
      "|316|264|985|\n",
      "|487|735|421|\n",
      "_____________\n",
      "|954|812|376|\n",
      "|635|547|128|\n",
      "|172|698|453|\n",
      "_____________\n",
      "\n",
      "-10.0\n"
     ]
    }
   ],
   "source": [
    "prob = SudokuProblem([9, 0, 0, 0, 0, 4, 0, 0, 2,\n",
    "                      0, 0, 0, 0, 0, 6, 0, 3, 7,\n",
    "                      0, 0, 0, 0, 7, 0, 0, 0, 0,\n",
    "                      0, 0, 0, 0, 0, 9, 0, 0, 0,\n",
    "                      0, 1, 0, 2, 6, 0, 0, 0, 0,\n",
    "                      4, 0, 0, 0, 0, 5, 0, 0, 1,\n",
    "                      0, 0, 0, 0, 1, 0, 0, 7, 6,\n",
    "                      0, 3, 5, 0, 0, 0, 0, 2, 0,\n",
    "                      1, 7, 0, 0, 9, 0, 0, 5, 3])\n",
    "SudokuGenetic.solve(prob)\n",
    "    "
   ]
  },
  {
   "cell_type": "code",
   "execution_count": null,
   "id": "adf84aee-bbd3-40a0-924a-18dd2318536a",
   "metadata": {},
   "outputs": [],
   "source": []
  }
 ],
 "metadata": {
  "kernelspec": {
   "display_name": "Python 3 (ipykernel)",
   "language": "python",
   "name": "python3"
  },
  "language_info": {
   "codemirror_mode": {
    "name": "ipython",
    "version": 3
   },
   "file_extension": ".py",
   "mimetype": "text/x-python",
   "name": "python",
   "nbconvert_exporter": "python",
   "pygments_lexer": "ipython3",
   "version": "3.12.1"
  }
 },
 "nbformat": 4,
 "nbformat_minor": 5
}
